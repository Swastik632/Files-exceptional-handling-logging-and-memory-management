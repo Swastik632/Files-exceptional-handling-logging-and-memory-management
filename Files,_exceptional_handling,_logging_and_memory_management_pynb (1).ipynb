{
  "nbformat": 4,
  "nbformat_minor": 0,
  "metadata": {
    "colab": {
      "provenance": []
    },
    "kernelspec": {
      "name": "python3",
      "display_name": "Python 3"
    },
    "language_info": {
      "name": "python"
    }
  },
  "cells": [
    {
      "cell_type": "markdown",
      "source": [
        "Q1) What is the difference between interpreted and compiled languages?\n",
        "\n",
        "    The main difference between interpreted and compiled languages lies in how the code is executed. In a compiled language, the entire program is first translated into machine code by a compiler before it is run. This machine code is specific to the computer's hardware, and once compiled, the program usually runs faster. Examples of compiled languages include C and C++. On the other hand, an interpreted language does not require compilation into machine code. Instead, an interpreter reads and executes the code line by line at runtime. This makes interpreted languages like Python and JavaScript easier to debug and modify, but they may run slower compared to compiled ones.\n",
        "\n",
        "Q2) What is exception handling in Python?\n",
        "\n",
        "    Exception handling in Python is a way to manage errors that occur while a program is running. Sometimes, a program might face unexpected issues, such as dividing by zero, opening a file that doesn't exist, or getting the wrong type of input. Instead of crashing, Python allows you to handle these errors using try, except, finally, and else blocks. The code that might cause an error is placed inside the try block. If an error occurs, the except block runs and handles it gracefully. This makes programs more reliable and prevents them from stopping unexpectedly.\n",
        "\n",
        "Q3) What is the purpose of the finally block in exception handling?\n",
        "\n",
        "    The finally block in exception handling is used to define a section of code that will always run, no matter what happens in the try or except blocks. Its main purpose is to perform cleanup actions, such as closing a file, releasing resources, or disconnecting from a database. Even if an error occurs or no error happens at all, the code inside the finally block will still execute. This helps ensure that important tasks are not skipped and the program stays stable and safe.\n",
        "\n",
        "Q4) What is logging in Python?\n",
        "\n",
        "    Logging in Python is a way to keep track of events that happen while a program runs. Instead of using print() statements for debugging, logging provides a better and more flexible way to record messages, warnings, errors, and other information. Python has a built-in logging module that lets you write these messages to the console, to a file, or both. Logging is useful for monitoring your program, finding bugs, and understanding its behavior over time, especially in larger or more complex applications.\n",
        "\n",
        "Q5) What is the significance of the __del__ method in Python?\n",
        "\n",
        "    The __del__ method in Python is a special method known as a destructor. It is called automatically when an object is about to be deleted or destroyed. The main purpose of the __del__ method is to perform cleanup tasks, such as closing files, releasing memory, or disconnecting from a network, before the object is removed from memory. Although Python handles memory automatically using garbage collection, __del__ can be helpful when you want to make sure some actions are done right before an object is deleted.\n",
        "\n",
        "Q6) What is the difference between import and from ... import in Python?\n",
        "\n",
        "    The difference between import and from ... import in Python is how they bring modules or parts of modules into your program. When you use import module_name, you import the whole module, and you must use the module name to access its functions or variables (e.g., math.sqrt(16)). On the other hand, when you use from module_name import something, you import only specific parts of the module directly, so you can use them without the module name (e.g., from math import sqrt, then just use sqrt(16)). The from ... import method makes code shorter, but import helps avoid name conflicts and shows clearly where functions come from.\n",
        "\n",
        "Q7) How can you handle multiple exceptions in Python?\n",
        "\n",
        "    In Python, you can handle multiple exceptions by using multiple except blocks or by combining exceptions in a single block using parentheses. When you use multiple except blocks, each one handles a different type of error separately. This way, you can provide a specific response for each kind of exception. You can also handle several exceptions together in one line by writing them inside parentheses. This is useful when you want to treat different errors in the same way. Handling multiple exceptions helps make your program more reliable and easier to debug.\n",
        "\n",
        "Q8) What is the purpose of the with statement when handling files in Python?\n",
        "\n",
        "    The with statement in Python is used to handle files more safely and easily. When you open a file using with, Python automatically takes care of opening and closing the file, even if an error occurs while working with it. This means you don't have to remember to call file.close()—it’s done for you. The with statement makes the code cleaner and helps prevent issues like leaving a file open by mistake, which can cause errors or data loss. It's the recommended way to work with files in Python.\n",
        "\n",
        "Q9) What is the difference between multithreading and multiprocessing?\n",
        "\n",
        "    The main difference between multithreading and multiprocessing lies in how they handle tasks and use the computer's resources. Multithreading means running multiple threads (smaller units of a process) within the same process. Threads share the same memory space, which makes communication between them easier but also riskier due to potential conflicts. It is useful for tasks like downloading files or handling user input where tasks mostly wait.\n",
        "\n",
        "    On the other hand, multiprocessing means running multiple processes, each with its own memory space. This allows Python to take full advantage of multiple CPU cores, making it better for heavy tasks like large calculations or data processing. While multiprocessing avoids the limitations of Python’s Global Interpreter Lock (GIL), it uses more memory and is a bit harder to manage than multithreading.\n",
        "\n",
        "Q10) What are the advantages of using logging in a program?\n",
        "\n",
        "    Using logging in a program offers several important advantages. First, it helps in tracking and recording events that happen during the program’s execution, which is useful for debugging and understanding the program's flow. Second, unlike print() statements, logging can record messages with different severity levels, such as debug, info, warning, error, and critical, making it easier to filter important messages. Third, logs can be saved to files, so developers can review them later without needing to rerun the program. Logging also improves maintenance and monitoring, especially in large applications, by providing a clear history of events and issues.\n",
        "\n",
        "Q11) What is memory management in Python?\n",
        "\n",
        "    Memory management in Python refers to the process of efficiently handling and organizing the computer's memory while a program is running. Python automatically takes care of memory through a system called automatic garbage collection, which removes objects that are no longer needed. It uses a technique called reference counting, where each object keeps track of how many references point to it. When an object has no references left, Python deletes it to free up memory. This helps developers focus more on writing code without worrying too much about manually allocating or freeing memory, making Python easier and safer to use.\n",
        "\n",
        "Q12) What are the basic steps involved in exception handling in Python?\n",
        "\n",
        "    The basic steps involved in exception handling in Python include using the keywords try, except, else, and finally. First, you write the code that might cause an error inside a try block. If an error occurs, Python skips the rest of the try block and runs the matching except block to handle the error. If no error happens, the optional else block can run code that depends on successful execution. Finally, the finally block is always executed, whether an error occurred or not, and is usually used for cleanup tasks like closing files or releasing resources. These steps make programs more stable and prevent crashes.\n",
        "\n",
        "Q13) Why is memory management important in Python?\n",
        "\n",
        "    Memory management is important in Python because it ensures that a program uses the computer's memory efficiently and does not waste or run out of it. Proper memory management helps keep the program fast, stable, and responsive, especially when dealing with large data or long-running applications. If memory is not managed well, it can lead to memory leaks, where unused data stays in memory and slows down or crashes the program. Python handles most of the memory management automatically using garbage collection, but understanding it helps developers write better and more efficient code.\n",
        "\n",
        "Q14) What is the role of try and except in exception handling?\n",
        "\n",
        "    The try and except blocks play a key role in exception handling in Python. The try block contains the code that might cause an error during program execution. If an error occurs in the try block, Python stops executing the remaining code inside it and jumps to the except block. The except block handles the error and allows the program to continue running without crashing. This helps make programs more robust and user-friendly, as they can deal with unexpected situations in a safe and controlled way.\n",
        "\n",
        "Q15) How does Python's garbage collection system work?\n",
        "\n",
        "    Python's garbage collection system automatically manages memory by removing objects that are no longer needed. It mainly works through a technique called reference counting, where each object keeps track of how many references point to it. When an object’s reference count drops to zero—meaning no part of the program is using it—Python deletes the object to free up memory.\n",
        "\n",
        "    However, sometimes objects reference each other, creating a circular reference. To handle this, Python also uses a cyclic garbage collector that looks for groups of objects that refer to each other but are not used anywhere else. This helps clean up memory that reference counting alone can’t manage. Overall, Python’s garbage collection system helps keep programs efficient and prevents memory leaks.\n",
        "\n",
        "Q16) What is the purpose of the else block in exception handling?\n",
        "\n",
        "    The else block in exception handling is used to define code that should run only if no exception occurs in the try block. It comes after the try and except blocks, and helps separate the code that should run only when everything goes smoothly. This makes the program easier to read and organize. For example, you can put the risky code in try, handle any errors in except, and write the normal follow-up actions in the else block, knowing that they will only run if no error happened.\n",
        "\n",
        "Q17) What are the common logging levels in Python?\n",
        "\n",
        "    In Python, the common logging levels are used to show the importance or severity of messages in a program. These levels help developers understand what is happening in the code and filter messages as needed. The main logging levels, from lowest to highest, are:\n",
        "\n",
        "    DEBUG – Detailed information, used mainly for debugging.\n",
        "\n",
        "    INFO – General information about the program’s execution.\n",
        "\n",
        "    WARNING – Shows something unexpected or a possible issue, but the program still works.\n",
        "\n",
        "    ERROR – A more serious problem that caused part of the program to fail.\n",
        "\n",
        "    CRITICAL – A very serious error that may stop the entire program.\n",
        "\n",
        "    These levels are used with Python’s built-in logging module to make tracking and fixing issues easier.\n",
        "\n",
        "Q18) What is the difference between os.fork() and multiprocessing in Python?\n",
        "\n",
        "    The difference between os.fork() and the multiprocessing module in Python lies in how they create and manage new processes.\n",
        "\n",
        "    os.fork() is a low-level function available only on Unix-based systems (like Linux and macOS). It creates a child process by duplicating the current process. Both the parent and child processes run the same code after the fork, and the programmer must manually manage them. It's powerful but more complex and not portable to Windows.\n",
        "\n",
        "    On the other hand, the multiprocessing module is a cross-platform, high-level way to create and manage processes in Python. It allows you to run code in parallel using multiple CPU cores and handles communication and synchronization between processes more easily. It is recommended for writing portable and safer multi-process programs.\n",
        "\n",
        "    In short, os.fork() is lower-level and Unix-only, while multiprocessing is higher-level, user-friendly, and works on all platforms.\n",
        "\n",
        "Q19) What is the importance of closing a file in Python?\n",
        "\n",
        "    Closing a file in Python is important because it frees up system resources and ensures that all data is properly written and saved to the file. When a file is open, especially in write mode, the data may be stored in a temporary buffer. If the file is not closed, this data might not be fully saved, leading to data loss or corruption. Also, keeping files open for too long can use up memory and may cause errors if too many files are open at once. Using file.close() or the with statement helps make sure files are closed automatically and safely.\n",
        "\n",
        "Q20) What is the difference between file.read() and file.readline() in Python?\n",
        "\n",
        "    The difference between file.read() and file.readline() in Python is in how much content they read from a file.\n",
        "\n",
        "    file.read() reads the entire content of the file as a single string. It’s useful when you want to load the whole file at once.\n",
        "\n",
        "    file.readline() reads the file one line at a time, returning each line as a string, including the newline character (\\n). It’s helpful when you want to process a file line by line, especially for large files.\n",
        "\n",
        "Q21) What is the logging module in Python used for?\n",
        "\n",
        "    The logging module in Python is used to record messages and events that happen during the execution of a program. It helps developers track what the program is doing, find errors, and understand the flow of execution without using print statements. The logging module allows messages to be shown with different severity levels, like DEBUG, INFO, WARNING, ERROR, and CRITICAL. These messages can be printed to the screen or saved to a file. The module is very useful for debugging, monitoring, and maintaining both small and large programs.\n",
        "\n",
        "Q22) What is the os module in Python used for in file handling?\n",
        "\n",
        "    The os module in Python is used for interacting with the operating system, especially for file and directory handling. It provides many useful functions to work with files and folders, such as creating, deleting, renaming, and moving files or directories. It also allows you to check if a file or folder exists, get the current working directory, and navigate through different paths. For example, os.remove() deletes a file, os.mkdir() creates a new folder, and os.listdir() lists the contents of a directory. The os module makes it easier to manage files directly from your Python program.\n",
        "\n",
        "Q23) What are the challenges associated with memory management in Python?\n",
        "\n",
        "    Memory management in Python is mostly automatic, but there are still some challenges developers may face:\n",
        "\n",
        "    Memory Leaks: Even though Python has garbage collection, memory leaks can still happen if references to unused objects are not properly removed, especially in long-running programs.\n",
        "\n",
        "    Circular References: When two or more objects reference each other, they may not be collected by the normal reference counting system. Python’s garbage collector handles this, but it can still cause delays or missed cleanups.\n",
        "\n",
        "    High Memory Usage: Python objects, especially custom classes and data structures like lists or dictionaries, can take up more memory compared to lower-level languages like C.\n",
        "\n",
        "    Not Releasing External Resources: If files or network connections are not properly closed, they may continue to use memory or system resources.\n",
        "\n",
        "    large Data Processing: When handling very large datasets in memory, it’s important to manage data wisely using techniques like generators or data streaming to avoid running out of memory.\n",
        "\n",
        "    Understanding these challenges helps developers write more efficient and stable programs in Python.\n",
        "\n",
        "Q24) How do you raise an exception manually in Python?\n",
        "\n",
        "    In Python, you can raise an exception manually using the raise keyword followed by the exception type you want to raise. This is useful when you want to stop the program and show an error message if something goes wrong or if a certain condition is not met.\n",
        "\n",
        "Q25) Why is it important to use multithreading in certain applications?\n",
        "\n",
        "    Using multithreading is important in certain applications because it allows a program to perform multiple tasks at the same time, which can improve performance and responsiveness. This is especially useful in situations where some tasks take time but do not use much CPU power, such as waiting for user input, downloading files, or reading from a database.\n",
        "\n",
        "    By running these tasks in separate threads, the main program can continue working without waiting for each task to finish. This makes the application feel faster and smoother, especially in user interfaces or real-time systems. However, since all threads share the same memory, multithreading needs to be used carefully to avoid conflicts or bugs."
      ],
      "metadata": {
        "id": "JGySXjAv7o7f"
      }
    },
    {
      "cell_type": "code",
      "source": [
        "#Q1) How can you open a file for writing in Python and write a string to it?\n",
        "\n",
        "file = open(\"example.txt\", \"w\")\n",
        "file.write(\"Hello, world!\")\n",
        "file.close()"
      ],
      "metadata": {
        "id": "bQoKVf55yHKG"
      },
      "execution_count": null,
      "outputs": []
    },
    {
      "cell_type": "code",
      "source": [
        "#Q2) Write a Python program to read the contents of a file and print each line\n",
        "\n",
        "file = open(\"example.txt\", \"r\")\n",
        "for line in file:\n",
        "    print(line)\n",
        "file.close()"
      ],
      "metadata": {
        "colab": {
          "base_uri": "https://localhost:8080/"
        },
        "id": "TzUQSkA4yYqk",
        "outputId": "76b0074e-09bb-4cc5-cabd-442b79da27f4"
      },
      "execution_count": null,
      "outputs": [
        {
          "output_type": "stream",
          "name": "stdout",
          "text": [
            "Hello, world!\n"
          ]
        }
      ]
    },
    {
      "cell_type": "code",
      "source": [
        "#Q3) How would you handle a case where the file doesn't exist while trying to open it for reading?\n",
        "\n",
        "try:\n",
        "    with open(\"myfile.txt\", \"r\") as file:\n",
        "        content = file.read()\n",
        "        print(content)\n",
        "except FileNotFoundError:\n",
        "    print(\"The file does not exist. Please check the filename or path.\")\n"
      ],
      "metadata": {
        "colab": {
          "base_uri": "https://localhost:8080/"
        },
        "id": "EzH0956WzesA",
        "outputId": "56655d11-d2a3-4e56-92f7-ae12aae9f8ab"
      },
      "execution_count": null,
      "outputs": [
        {
          "output_type": "stream",
          "name": "stdout",
          "text": [
            "The file does not exist. Please check the filename or path.\n"
          ]
        }
      ]
    },
    {
      "cell_type": "code",
      "source": [
        "#Q4) Write a Python script that reads from one file and writes its content to another file\n",
        "\n",
        "try:\n",
        "    with open(\"input.txt\", \"r\") as input_file:\n",
        "        content = input_file.read()\n",
        "\n",
        "    with open(\"output.txt\", \"w\") as output_file:\n",
        "        output_file.write(content)\n",
        "\n",
        "    print(\"File copied successfully.\")\n",
        "\n",
        "except FileNotFoundError:\n",
        "    print(\"Error: 'input.txt' does not exist. Please check the file name or upload the file.\")\n"
      ],
      "metadata": {
        "colab": {
          "base_uri": "https://localhost:8080/"
        },
        "id": "WOI49IkgzvaM",
        "outputId": "fd1d8b6a-2893-466b-d839-5325d03cefb7"
      },
      "execution_count": null,
      "outputs": [
        {
          "output_type": "stream",
          "name": "stdout",
          "text": [
            "Error: 'input.txt' does not exist. Please check the file name or upload the file.\n"
          ]
        }
      ]
    },
    {
      "cell_type": "code",
      "source": [
        "#Q5) How would you catch and handle division by zero error in Python?\n",
        "\n",
        "try:\n",
        "    a = 10\n",
        "    b = 0\n",
        "    result = a / b\n",
        "    print(\"Result:\", result)\n",
        "except ZeroDivisionError:\n",
        "    print(\"Error: Cannot divide by zero.\")\n"
      ],
      "metadata": {
        "colab": {
          "base_uri": "https://localhost:8080/"
        },
        "id": "NWr49lVW0TkW",
        "outputId": "d4ba6053-20c4-4bf1-a6d2-16d4b45fd746"
      },
      "execution_count": null,
      "outputs": [
        {
          "output_type": "stream",
          "name": "stdout",
          "text": [
            "Error: Cannot divide by zero.\n"
          ]
        }
      ]
    },
    {
      "cell_type": "code",
      "source": [
        "#Q6) Write a Python program that logs an error message to a log file when a division by zero exception occurs?\n",
        "\n",
        "import logging\n",
        "\n",
        "# Configure logging to write to a file\n",
        "logging.basicConfig(filename='error_log.txt',\n",
        "                    level=logging.ERROR,\n",
        "                    format='%(asctime)s - %(levelname)s - %(message)s')\n",
        "\n",
        "try:\n",
        "    a = 10\n",
        "    b = 0\n",
        "    result = a / b\n",
        "    print(\"Result:\", result)\n",
        "\n",
        "except ZeroDivisionError as e:\n",
        "    logging.error(\"Division by zero occurred: %s\", e)\n",
        "    print(\"An error occurred. Check the log file for details.\")\n"
      ],
      "metadata": {
        "colab": {
          "base_uri": "https://localhost:8080/"
        },
        "id": "aGo-MtJWC-Pp",
        "outputId": "de75cd2c-fa17-49f7-a6e6-cf1fdc78d8d2"
      },
      "execution_count": null,
      "outputs": [
        {
          "output_type": "stream",
          "name": "stderr",
          "text": [
            "ERROR:root:Division by zero occurred: division by zero\n"
          ]
        },
        {
          "output_type": "stream",
          "name": "stdout",
          "text": [
            "An error occurred. Check the log file for details.\n"
          ]
        }
      ]
    },
    {
      "cell_type": "code",
      "source": [
        "#Q7) How do you log information at different levels (INFO, ERROR, WARNING) in Python using the logging module?\n",
        "\n",
        "import logging\n",
        "\n",
        "\n",
        "logging.basicConfig(filename='app_log.txt',\n",
        "                    level=logging.DEBUG,\n",
        "                    format='%(asctime)s - %(levelname)s - %(message)s')\n",
        "\n",
        "logging.debug(\"This is a debug message.\")\n",
        "logging.info(\"This is an info message.\")\n",
        "logging.warning(\"This is a warning message.\")\n",
        "logging.error(\"This is an error message.\")\n",
        "logging.critical(\"This is a critical message.\")\n"
      ],
      "metadata": {
        "colab": {
          "base_uri": "https://localhost:8080/"
        },
        "id": "IdihGFPVDPEN",
        "outputId": "e95a52d3-ea55-4c91-9e84-4d5af56df43f"
      },
      "execution_count": null,
      "outputs": [
        {
          "output_type": "stream",
          "name": "stderr",
          "text": [
            "WARNING:root:This is a warning message.\n",
            "ERROR:root:This is an error message.\n",
            "CRITICAL:root:This is a critical message.\n"
          ]
        }
      ]
    },
    {
      "cell_type": "code",
      "source": [
        "#Q8) Write a program to handle a file opening error using exception handling.\n",
        "\n",
        "try:\n",
        "    with open(\"myfile.txt\", \"r\") as file:\n",
        "        content = file.read()\n",
        "        print(\"File content:\\n\", content)\n",
        "\n",
        "except FileNotFoundError:\n",
        "    print(\"Error: The file 'myfile.txt' was not found. Please check the file name or path.\")\n"
      ],
      "metadata": {
        "colab": {
          "base_uri": "https://localhost:8080/"
        },
        "id": "NJp0P68nFemh",
        "outputId": "536b62ba-8eaf-4c7a-ae1c-835311bae297"
      },
      "execution_count": null,
      "outputs": [
        {
          "output_type": "stream",
          "name": "stdout",
          "text": [
            "Error: The file 'myfile.txt' was not found. Please check the file name or path.\n"
          ]
        }
      ]
    },
    {
      "cell_type": "code",
      "source": [
        "#Q9) How can you read a file line by line and store its content in a list in Python?\n",
        "\n",
        "with open(\"example.txt\", \"r\") as file:\n",
        "    lines = file.readlines()\n",
        "\n",
        "print(lines)\n"
      ],
      "metadata": {
        "colab": {
          "base_uri": "https://localhost:8080/"
        },
        "id": "xai05znaFnMO",
        "outputId": "582cc912-6bc7-4082-aa09-099c8e77cd79"
      },
      "execution_count": null,
      "outputs": [
        {
          "output_type": "stream",
          "name": "stdout",
          "text": [
            "['Hello, world!']\n"
          ]
        }
      ]
    },
    {
      "cell_type": "code",
      "source": [
        "#Q10) How can you append data to an existing file in Python?\n",
        "\n",
        "\n",
        "with open(\"example.txt\", \"a\") as file:\n",
        "    file.write(\"This is a new line added to the file.\\n\")\n"
      ],
      "metadata": {
        "id": "qZDEFf0KFxi5"
      },
      "execution_count": null,
      "outputs": []
    },
    {
      "cell_type": "code",
      "source": [
        "#Q11) Write a Python program that uses a try-except block to handle an error when attempting to access a dictionary key that doesn't exist\n",
        "\n",
        "my_dict = {\n",
        "    \"name\": \"Alice\",\n",
        "    \"age\": 25\n",
        "}\n",
        "\n",
        "try:\n",
        "    # Trying to access a key that may not exist\n",
        "    print(\"City:\", my_dict[\"city\"])\n",
        "\n",
        "except KeyError:\n",
        "    print(\"Error: The key 'city' does not exist in the dictionary.\")\n"
      ],
      "metadata": {
        "colab": {
          "base_uri": "https://localhost:8080/"
        },
        "id": "DiLLF_7UHFrA",
        "outputId": "ddeb2d72-7add-4ef4-b682-cea8638a05cb"
      },
      "execution_count": null,
      "outputs": [
        {
          "output_type": "stream",
          "name": "stdout",
          "text": [
            "Error: The key 'city' does not exist in the dictionary.\n"
          ]
        }
      ]
    },
    {
      "cell_type": "code",
      "source": [
        "#Q12)  Write a program that demonstrates using multiple except blocks to handle different types of exceptions.\n",
        "\n",
        "try:\n",
        "    num1 = int(input(\"Enter a number: \"))\n",
        "    num2 = int(input(\"Enter another number: \"))\n",
        "    result = num1 / num2\n",
        "    print(\"Result:\", result)\n",
        "\n",
        "except ValueError:\n",
        "    print(\"Error: Please enter only numbers.\")\n",
        "\n",
        "except ZeroDivisionError:\n",
        "    print(\"Error: Cannot divide by zero.\")\n",
        "\n",
        "except Exception as e:\n",
        "    print(\"An unexpected error occurred:\", e)\n"
      ],
      "metadata": {
        "colab": {
          "base_uri": "https://localhost:8080/"
        },
        "id": "9Ed3L3tBHMgr",
        "outputId": "34c0754a-6be3-4639-cfbf-2befbe6c73c1"
      },
      "execution_count": null,
      "outputs": [
        {
          "output_type": "stream",
          "name": "stdout",
          "text": [
            "Enter a number: 23\n",
            "Enter another number: 21\n",
            "Result: 1.0952380952380953\n"
          ]
        }
      ]
    },
    {
      "cell_type": "code",
      "source": [
        "#Q13) How would you check if a file exists before attempting to read it in Python?\n",
        "import os\n",
        "\n",
        "filename = \"example.txt\"\n",
        "\n",
        "if os.path.exists(filename):\n",
        "    with open(filename, \"r\") as file:\n",
        "        content = file.read()\n",
        "        print(\"File content:\\n\", content)\n",
        "else:\n",
        "    print(\"Error: The file does not exist.\")\n"
      ],
      "metadata": {
        "colab": {
          "base_uri": "https://localhost:8080/"
        },
        "id": "Bh-Cu9LmKXzp",
        "outputId": "a694743f-93b5-4b16-e746-fd98c665e12a"
      },
      "execution_count": null,
      "outputs": [
        {
          "output_type": "stream",
          "name": "stdout",
          "text": [
            "File content:\n",
            " Hello, world!This is a new line added to the file.\n",
            "This is a new line added to the file.\n",
            "This is a new line added to the file.\n",
            "\n"
          ]
        }
      ]
    },
    {
      "cell_type": "code",
      "source": [
        "#Q14) Write a program that uses the logging module to log both informational and error messages.\n",
        "\n",
        "import logging\n",
        "\n",
        "logging.basicConfig(filename='app.log',\n",
        "                    level=logging.DEBUG,\n",
        "                    format='%(asctime)s - %(levelname)s - %(message)s')\n",
        "\n",
        "logging.info(\"Program started successfully.\")\n",
        "\n",
        "try:\n",
        "    a = 10\n",
        "    b = 0\n",
        "    result = a / b\n",
        "    logging.info(\"Division result: %s\", result)\n",
        "\n",
        "except ZeroDivisionError as e:\n",
        "    logging.error(\"Division by zero error occurred: %s\", e)\n",
        "logging.info(\"Program finished.\")\n"
      ],
      "metadata": {
        "colab": {
          "base_uri": "https://localhost:8080/"
        },
        "id": "jUs6-x0zKflm",
        "outputId": "7b4714b9-6bec-4993-9be4-acb7edb613fa"
      },
      "execution_count": null,
      "outputs": [
        {
          "output_type": "stream",
          "name": "stderr",
          "text": [
            "ERROR:root:Division by zero error occurred: division by zero\n"
          ]
        }
      ]
    },
    {
      "cell_type": "code",
      "source": [
        "#Q15) Write a Python program that prints the content of a file and handles the case when the file is empty.\n",
        "\n",
        "try:\n",
        "    with open(\"sample.txt\", \"r\") as file:\n",
        "        content = file.read()\n",
        "\n",
        "        if content.strip() == \"\":\n",
        "            print(\"The file is empty.\")\n",
        "        else:\n",
        "            print(\"File content:\\n\", content)\n",
        "\n",
        "except FileNotFoundError:\n",
        "    print(\"Error: The file 'sample.txt' was not found.\")\n"
      ],
      "metadata": {
        "colab": {
          "base_uri": "https://localhost:8080/"
        },
        "id": "8C2oRzy7KpDp",
        "outputId": "37e16c55-a3d1-4132-db42-c87d94a0a8c4"
      },
      "execution_count": null,
      "outputs": [
        {
          "output_type": "stream",
          "name": "stdout",
          "text": [
            "Error: The file 'sample.txt' was not found.\n"
          ]
        }
      ]
    },
    {
      "cell_type": "code",
      "source": [
        "#Q16)  Demonstrate how to use memory profiling to check the memory usage of a small program.\n",
        "import tracemalloc\n",
        "\n",
        "def create_list():\n",
        "    tracemalloc.start()\n",
        "    data = [i * 2 for i in range(100000)]\n",
        "    current, peak = tracemalloc.get_traced_memory()\n",
        "    tracemalloc.stop()\n",
        "\n",
        "    print(f\"Current memory usage: {current / 1024:.2f} KB\")\n",
        "    print(f\"Peak memory usage: {peak / 1024:.2f} KB\")\n",
        "\n",
        "create_list()\n"
      ],
      "metadata": {
        "colab": {
          "base_uri": "https://localhost:8080/"
        },
        "id": "JWrmG9kQK0tA",
        "outputId": "b4ff52ee-0660-4ad4-f15a-df9fd8c748f9"
      },
      "execution_count": null,
      "outputs": [
        {
          "output_type": "stream",
          "name": "stdout",
          "text": [
            "Current memory usage: 3905.02 KB\n",
            "Peak memory usage: 3905.24 KB\n"
          ]
        }
      ]
    },
    {
      "cell_type": "code",
      "source": [
        "#Q17) Write a Python program to create and write a list of numbers to a file, one number per line.\n",
        "\n",
        "numbers = [10, 20, 30, 40, 50]\n",
        "\n",
        "with open(\"numbers.txt\", \"w\") as file:\n",
        "    for number in numbers:\n",
        "        file.write(str(number) + \"\\n\")\n",
        "\n",
        "print(\"Numbers have been written to 'numbers.txt'.\")\n",
        "\n"
      ],
      "metadata": {
        "colab": {
          "base_uri": "https://localhost:8080/"
        },
        "id": "2pqJBeT_LnqJ",
        "outputId": "e2695df5-04b4-4da8-8cde-bfd5e2f4fe32"
      },
      "execution_count": null,
      "outputs": [
        {
          "output_type": "stream",
          "name": "stdout",
          "text": [
            "Numbers have been written to 'numbers.txt'.\n"
          ]
        }
      ]
    },
    {
      "cell_type": "code",
      "source": [
        "#Q18) How would you implement a basic logging setup that logs to a file with rotation after 1MB?\n",
        "\n",
        "import logging\n",
        "from logging.handlers import RotatingFileHandler\n",
        "\n",
        "log_handler = RotatingFileHandler(\n",
        "    \"app.log\",\n",
        "    maxBytes=1 * 1024 * 1024,\n",
        "    backupCount=3\n",
        ")\n",
        "\n",
        "formatter = logging.Formatter('%(asctime)s - %(levelname)s - %(message)s')\n",
        "log_handler.setFormatter(formatter)\n",
        "\n",
        "logger = logging.getLogger()\n",
        "logger.setLevel(logging.INFO)\n",
        "logger.addHandler(log_handler)\n",
        "\n",
        "for i in range(3):\n",
        "    logger.info(f\"This is log message number {i}\")\n"
      ],
      "metadata": {
        "colab": {
          "base_uri": "https://localhost:8080/"
        },
        "id": "Nbbcu6q_LvrP",
        "outputId": "ef585629-8e82-42e9-89c2-83eb31e2c043",
        "collapsed": true
      },
      "execution_count": 30,
      "outputs": [
        {
          "output_type": "stream",
          "name": "stderr",
          "text": [
            "INFO:root:This is log message number 0\n",
            "INFO:root:This is log message number 1\n",
            "INFO:root:This is log message number 2\n"
          ]
        }
      ]
    },
    {
      "cell_type": "code",
      "source": [
        "#Q19) Write a program that handles both IndexError and KeyError using a try-except block.\n",
        "\n",
        "my_list = [10, 20, 30]\n",
        "my_dict = {\"name\": \"Alice\", \"age\": 25}\n",
        "\n",
        "try:\n",
        "    print(\"List item:\", my_list[5])\n",
        "\n",
        "    print(\"City:\", my_dict[\"city\"])\n",
        "\n",
        "except IndexError:\n",
        "    print(\"Error: You tried to access an index that does not exist in the list.\")\n",
        "\n",
        "except KeyError:\n",
        "    print(\"Error: You tried to access a key that does not exist in the dictionary.\")\n"
      ],
      "metadata": {
        "colab": {
          "base_uri": "https://localhost:8080/"
        },
        "id": "oXOI0_0EMb98",
        "outputId": "1d09438a-c2de-42e5-f87c-e4a7373ec9ee"
      },
      "execution_count": null,
      "outputs": [
        {
          "output_type": "stream",
          "name": "stdout",
          "text": [
            "Error: You tried to access an index that does not exist in the list.\n"
          ]
        }
      ]
    },
    {
      "cell_type": "code",
      "source": [
        "#Q20) How would you open a file and read its contents using a context manager in Python?\n",
        "\n",
        "# Open and read a file using a context manager\n",
        "with open(\"example.txt\", \"r\") as file:\n",
        "    content = file.read()\n",
        "    print(\"File content:\\n\", content)\n"
      ],
      "metadata": {
        "colab": {
          "base_uri": "https://localhost:8080/"
        },
        "id": "_5p88BPUMo0N",
        "outputId": "5747036e-fd97-4095-b9e5-b488959f3b79"
      },
      "execution_count": null,
      "outputs": [
        {
          "output_type": "stream",
          "name": "stdout",
          "text": [
            "File content:\n",
            " Hello, world!This is a new line added to the file.\n",
            "This is a new line added to the file.\n",
            "This is a new line added to the file.\n",
            "\n"
          ]
        }
      ]
    },
    {
      "cell_type": "code",
      "source": [
        "#Q21) Write a Python program that reads a file and prints the number of occurrences of a specific word.\n",
        "\n",
        "word_to_find = \"python\"\n",
        "\n",
        "try:\n",
        "    with open(\"sample.txt\", \"r\") as file:\n",
        "        content = file.read()\n",
        "\n",
        "        content = content.lower()\n",
        "\n",
        "        word_count = content.count(word_to_find.lower())\n",
        "\n",
        "        print(f\"The word '{word_to_find}' appears {word_count} times in the file.\")\n",
        "\n",
        "except FileNotFoundError:\n",
        "    print(\"Error: The file 'sample.txt' was not found.\")\n"
      ],
      "metadata": {
        "colab": {
          "base_uri": "https://localhost:8080/"
        },
        "id": "VfpcH7OvMytm",
        "outputId": "0793d87f-d727-4ae8-8fca-a0a2ebc9b1f7"
      },
      "execution_count": null,
      "outputs": [
        {
          "output_type": "stream",
          "name": "stdout",
          "text": [
            "Error: The file 'sample.txt' was not found.\n"
          ]
        }
      ]
    },
    {
      "cell_type": "code",
      "source": [
        "#Q22)  How can you check if a file is empty before attempting to read its contents?\n",
        "\n",
        "import os\n",
        "\n",
        "filename = \"example.txt\"\n",
        "\n",
        "if os.path.exists(filename):\n",
        "    if os.path.getsize(filename) == 0:\n",
        "        print(\"The file is empty.\")\n",
        "    else:\n",
        "        with open(filename, \"r\") as file:\n",
        "            content = file.read()\n",
        "            print(\"File content:\\n\", content)\n",
        "else:\n",
        "    print(\"The file does not exist.\")\n"
      ],
      "metadata": {
        "colab": {
          "base_uri": "https://localhost:8080/"
        },
        "id": "S7hSaUrBNJCt",
        "outputId": "1dcc1eff-bf17-4c72-ea3e-d46339e81719"
      },
      "execution_count": null,
      "outputs": [
        {
          "output_type": "stream",
          "name": "stdout",
          "text": [
            "File content:\n",
            " Hello, world!This is a new line added to the file.\n",
            "This is a new line added to the file.\n",
            "This is a new line added to the file.\n",
            "\n"
          ]
        }
      ]
    },
    {
      "cell_type": "code",
      "source": [
        "#Q23) Write a Python program that writes to a log file when an error occurs during file handling.\n",
        "\n",
        "import logging\n",
        "\n",
        "logging.basicConfig(\n",
        "    filename='file_errors.log',\n",
        "    level=logging.ERROR,\n",
        "    format='%(asctime)s - %(levelname)s - %(message)s'\n",
        ")\n",
        "\n",
        "try:\n",
        "    with open(\"data.txt\", \"r\") as file:\n",
        "        content = file.read()\n",
        "        print(\"File content:\\n\", content)\n",
        "\n",
        "except FileNotFoundError as e:\n",
        "    logging.error(\"FileNotFoundError: %s\", e)\n",
        "    print(\"Error: The file was not found. Check the log file for details.\")\n",
        "\n",
        "except Exception as e:\n",
        "    logging.error(\"An unexpected error occurred: %s\", e)\n",
        "    print(\"An unexpected error occurred. Check the log file for details.\")\n"
      ],
      "metadata": {
        "colab": {
          "base_uri": "https://localhost:8080/"
        },
        "id": "DwjIqFd2NS4L",
        "outputId": "1cb5153b-84cd-4895-f2fc-e299200e2e34"
      },
      "execution_count": null,
      "outputs": [
        {
          "output_type": "stream",
          "name": "stderr",
          "text": [
            "ERROR:root:FileNotFoundError: [Errno 2] No such file or directory: 'data.txt'\n"
          ]
        },
        {
          "output_type": "stream",
          "name": "stdout",
          "text": [
            "Error: The file was not found. Check the log file for details.\n"
          ]
        }
      ]
    }
  ]
}